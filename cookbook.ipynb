{
 "cells": [
  {
   "cell_type": "markdown",
   "metadata": {},
   "source": [
    "As part of putting this session together, I came up with a few things which might be interesting but which didn't fit the presentation schedule."
   ]
  },
  {
   "cell_type": "markdown",
   "metadata": {},
   "source": [
    "# Health Care Research change\n",
    "\n",
    "Data from the NIH: https://report.nih.gov/categorical_spending.aspx\n",
    "\n",
    "You can download an \"Excel\" file from that page, but it's actually the HTML version of an Excel file, so `pandas` can't read it. I opened it in Excel for Mac and saved it as a CSV.\n",
    "\n",
    "Note that Mac Excel files use the `MacRoman` encoding. "
   ]
  },
  {
   "cell_type": "code",
   "execution_count": 7,
   "metadata": {
    "collapsed": false
   },
   "outputs": [
    {
     "data": {
      "text/html": [
       "<div>\n",
       "<table border=\"1\" class=\"dataframe\">\n",
       "  <thead>\n",
       "    <tr style=\"text-align: right;\">\n",
       "      <th></th>\n",
       "      <th>area</th>\n",
       "      <th>2012</th>\n",
       "      <th>2013</th>\n",
       "      <th>2014</th>\n",
       "      <th>2015</th>\n",
       "      <th>2016</th>\n",
       "      <th>2017</th>\n",
       "    </tr>\n",
       "  </thead>\n",
       "  <tbody>\n",
       "    <tr>\n",
       "      <th>0</th>\n",
       "      <td>Acquired Cognitive Impairment</td>\n",
       "      <td>+</td>\n",
       "      <td>+</td>\n",
       "      <td>+</td>\n",
       "      <td>$798</td>\n",
       "      <td>$832</td>\n",
       "      <td>$832</td>\n",
       "    </tr>\n",
       "    <tr>\n",
       "      <th>1</th>\n",
       "      <td>Acute Respiratory Distress Syndrome</td>\n",
       "      <td>$98</td>\n",
       "      <td>$95</td>\n",
       "      <td>$85</td>\n",
       "      <td>$108</td>\n",
       "      <td>$112</td>\n",
       "      <td>$112</td>\n",
       "    </tr>\n",
       "    <tr>\n",
       "      <th>2</th>\n",
       "      <td>Adolescent Sexual Activity</td>\n",
       "      <td>$76</td>\n",
       "      <td>$70</td>\n",
       "      <td>$68</td>\n",
       "      <td>$85</td>\n",
       "      <td>$88</td>\n",
       "      <td>$88</td>\n",
       "    </tr>\n",
       "    <tr>\n",
       "      <th>3</th>\n",
       "      <td>Agent Orange &amp; Dioxin</td>\n",
       "      <td>$8</td>\n",
       "      <td>$10</td>\n",
       "      <td>$8</td>\n",
       "      <td>$9</td>\n",
       "      <td>$9</td>\n",
       "      <td>$9</td>\n",
       "    </tr>\n",
       "    <tr>\n",
       "      <th>4</th>\n",
       "      <td>Aging</td>\n",
       "      <td>$2,593</td>\n",
       "      <td>$2,429</td>\n",
       "      <td>$2,556</td>\n",
       "      <td>$2,698</td>\n",
       "      <td>$2,807</td>\n",
       "      <td>$2,807</td>\n",
       "    </tr>\n",
       "  </tbody>\n",
       "</table>\n",
       "</div>"
      ],
      "text/plain": [
       "                                  area     2012     2013     2014     2015  \\\n",
       "0        Acquired Cognitive Impairment        +        +        +    $798    \n",
       "1  Acute Respiratory Distress Syndrome     $98      $95      $85     $108    \n",
       "2           Adolescent Sexual Activity     $76      $70      $68      $85    \n",
       "3                Agent Orange & Dioxin      $8      $10       $8       $9    \n",
       "4                                Aging  $2,593   $2,429   $2,556   $2,698    \n",
       "\n",
       "      2016     2017  \n",
       "0    $832     $832   \n",
       "1    $112     $112   \n",
       "2     $88      $88   \n",
       "3      $9       $9   \n",
       "4  $2,807   $2,807   "
      ]
     },
     "execution_count": 7,
     "metadata": {},
     "output_type": "execute_result"
    }
   ],
   "source": [
    "import pandas as pd\n",
    "import numpy as np\n",
    "df = pd.read_csv('RCDCFundingSummary030516.csv',encoding='MacRoman', skiprows=1, header=None, \n",
    "                 names=['area', '2012', '2013', '2014', '2015', '2016', '2017'])\n",
    "df.head()"
   ]
  },
  {
   "cell_type": "markdown",
   "metadata": {},
   "source": [
    "## Strip formatting characters\n",
    "\n",
    "Eyeballing the data (and, to be honest, experience trying to load it) shows that there are a number of values which will get in our way. There are columns with '+' and '-' characters, and all of the numeric columns are formatted as currency, with '$' and ',' characters which will get in our way. Let's get rid of them."
   ]
  },
  {
   "cell_type": "code",
   "execution_count": 10,
   "metadata": {
    "collapsed": false
   },
   "outputs": [
    {
     "data": {
      "text/html": [
       "<div>\n",
       "<table border=\"1\" class=\"dataframe\">\n",
       "  <thead>\n",
       "    <tr style=\"text-align: right;\">\n",
       "      <th></th>\n",
       "      <th>area</th>\n",
       "      <th>2012</th>\n",
       "      <th>2013</th>\n",
       "      <th>2014</th>\n",
       "      <th>2015</th>\n",
       "      <th>2016</th>\n",
       "      <th>2017</th>\n",
       "    </tr>\n",
       "  </thead>\n",
       "  <tbody>\n",
       "    <tr>\n",
       "      <th>0</th>\n",
       "      <td>Acquired Cognitive Impairment</td>\n",
       "      <td></td>\n",
       "      <td></td>\n",
       "      <td></td>\n",
       "      <td>798</td>\n",
       "      <td>832</td>\n",
       "      <td>832</td>\n",
       "    </tr>\n",
       "    <tr>\n",
       "      <th>1</th>\n",
       "      <td>Acute Respiratory Distress Syndrome</td>\n",
       "      <td>98</td>\n",
       "      <td>95</td>\n",
       "      <td>85</td>\n",
       "      <td>108</td>\n",
       "      <td>112</td>\n",
       "      <td>112</td>\n",
       "    </tr>\n",
       "    <tr>\n",
       "      <th>2</th>\n",
       "      <td>Adolescent Sexual Activity</td>\n",
       "      <td>76</td>\n",
       "      <td>70</td>\n",
       "      <td>68</td>\n",
       "      <td>85</td>\n",
       "      <td>88</td>\n",
       "      <td>88</td>\n",
       "    </tr>\n",
       "    <tr>\n",
       "      <th>3</th>\n",
       "      <td>Agent Orange &amp; Dioxin</td>\n",
       "      <td>8</td>\n",
       "      <td>10</td>\n",
       "      <td>8</td>\n",
       "      <td>9</td>\n",
       "      <td>9</td>\n",
       "      <td>9</td>\n",
       "    </tr>\n",
       "    <tr>\n",
       "      <th>4</th>\n",
       "      <td>Aging</td>\n",
       "      <td>2593</td>\n",
       "      <td>2429</td>\n",
       "      <td>2556</td>\n",
       "      <td>2698</td>\n",
       "      <td>2807</td>\n",
       "      <td>2807</td>\n",
       "    </tr>\n",
       "  </tbody>\n",
       "</table>\n",
       "</div>"
      ],
      "text/plain": [
       "                                  area   2012   2013   2014   2015   2016  \\\n",
       "0        Acquired Cognitive Impairment                        798    832    \n",
       "1  Acute Respiratory Distress Syndrome    98     95     85    108    112    \n",
       "2           Adolescent Sexual Activity    76     70     68     85     88    \n",
       "3                Agent Orange & Dioxin     8     10      8      9      9    \n",
       "4                                Aging  2593   2429   2556   2698   2807    \n",
       "\n",
       "    2017  \n",
       "0   832   \n",
       "1   112   \n",
       "2    88   \n",
       "3     9   \n",
       "4  2807   "
      ]
     },
     "execution_count": 10,
     "metadata": {},
     "output_type": "execute_result"
    }
   ],
   "source": [
    "df = df.replace('[\\$,+\\-]','',regex=True) # strip $|,|+|- from all cells. \n",
    "df.head()"
   ]
  },
  {
   "cell_type": "markdown",
   "metadata": {},
   "source": [
    "## Deal with blanks\n",
    "\n",
    "When you want to convert a column of values as numbers, the blanks cause an error. Let's use `replace` again to put a number-safe placeholder for \"not a number\" in there, and then convert all of the number columns to `float`. (You may look at them and think of using `int` since there are no decimals, but `np.nan` doesn't work with integers.) "
   ]
  },
  {
   "cell_type": "code",
   "execution_count": 15,
   "metadata": {
    "collapsed": false
   },
   "outputs": [
    {
     "data": {
      "text/html": [
       "<div>\n",
       "<table border=\"1\" class=\"dataframe\">\n",
       "  <thead>\n",
       "    <tr style=\"text-align: right;\">\n",
       "      <th></th>\n",
       "      <th>2012</th>\n",
       "      <th>2013</th>\n",
       "      <th>2014</th>\n",
       "      <th>2015</th>\n",
       "      <th>2016</th>\n",
       "      <th>2017</th>\n",
       "    </tr>\n",
       "  </thead>\n",
       "  <tbody>\n",
       "    <tr>\n",
       "      <th>count</th>\n",
       "      <td>241.000000</td>\n",
       "      <td>241.000000</td>\n",
       "      <td>248.000000</td>\n",
       "      <td>265.000000</td>\n",
       "      <td>264.000000</td>\n",
       "      <td>264.000000</td>\n",
       "    </tr>\n",
       "    <tr>\n",
       "      <th>mean</th>\n",
       "      <td>612.676349</td>\n",
       "      <td>592.344398</td>\n",
       "      <td>601.201613</td>\n",
       "      <td>588.094340</td>\n",
       "      <td>618.159091</td>\n",
       "      <td>621.026515</td>\n",
       "    </tr>\n",
       "    <tr>\n",
       "      <th>std</th>\n",
       "      <td>1334.687692</td>\n",
       "      <td>1303.804968</td>\n",
       "      <td>1335.118554</td>\n",
       "      <td>1326.098431</td>\n",
       "      <td>1386.499550</td>\n",
       "      <td>1397.501190</td>\n",
       "    </tr>\n",
       "    <tr>\n",
       "      <th>min</th>\n",
       "      <td>0.000000</td>\n",
       "      <td>0.000000</td>\n",
       "      <td>0.000000</td>\n",
       "      <td>0.000000</td>\n",
       "      <td>1.000000</td>\n",
       "      <td>1.000000</td>\n",
       "    </tr>\n",
       "    <tr>\n",
       "      <th>25%</th>\n",
       "      <td>24.000000</td>\n",
       "      <td>25.000000</td>\n",
       "      <td>24.000000</td>\n",
       "      <td>25.000000</td>\n",
       "      <td>27.500000</td>\n",
       "      <td>27.500000</td>\n",
       "    </tr>\n",
       "    <tr>\n",
       "      <th>50%</th>\n",
       "      <td>115.000000</td>\n",
       "      <td>114.000000</td>\n",
       "      <td>114.500000</td>\n",
       "      <td>108.000000</td>\n",
       "      <td>113.500000</td>\n",
       "      <td>113.500000</td>\n",
       "    </tr>\n",
       "    <tr>\n",
       "      <th>75%</th>\n",
       "      <td>477.000000</td>\n",
       "      <td>437.000000</td>\n",
       "      <td>426.500000</td>\n",
       "      <td>424.000000</td>\n",
       "      <td>436.500000</td>\n",
       "      <td>436.500000</td>\n",
       "    </tr>\n",
       "    <tr>\n",
       "      <th>max</th>\n",
       "      <td>10951.000000</td>\n",
       "      <td>10604.000000</td>\n",
       "      <td>11087.000000</td>\n",
       "      <td>11366.000000</td>\n",
       "      <td>11867.000000</td>\n",
       "      <td>11867.000000</td>\n",
       "    </tr>\n",
       "  </tbody>\n",
       "</table>\n",
       "</div>"
      ],
      "text/plain": [
       "               2012          2013          2014          2015          2016  \\\n",
       "count    241.000000    241.000000    248.000000    265.000000    264.000000   \n",
       "mean     612.676349    592.344398    601.201613    588.094340    618.159091   \n",
       "std     1334.687692   1303.804968   1335.118554   1326.098431   1386.499550   \n",
       "min        0.000000      0.000000      0.000000      0.000000      1.000000   \n",
       "25%       24.000000     25.000000     24.000000     25.000000     27.500000   \n",
       "50%      115.000000    114.000000    114.500000    108.000000    113.500000   \n",
       "75%      477.000000    437.000000    426.500000    424.000000    436.500000   \n",
       "max    10951.000000  10604.000000  11087.000000  11366.000000  11867.000000   \n",
       "\n",
       "               2017  \n",
       "count    264.000000  \n",
       "mean     621.026515  \n",
       "std     1397.501190  \n",
       "min        1.000000  \n",
       "25%       27.500000  \n",
       "50%      113.500000  \n",
       "75%      436.500000  \n",
       "max    11867.000000  "
      ]
     },
     "execution_count": 15,
     "metadata": {},
     "output_type": "execute_result"
    }
   ],
   "source": [
    "df = df.replace('^\\s*$',np.nan,regex=True)\n",
    "for col in df.columns[1:]: # skip the first column\n",
    "    df[col] = df[col].astype('float')\n",
    "\n",
    "df.describe()    "
   ]
  },
  {
   "cell_type": "markdown",
   "metadata": {},
   "source": [
    "You'll see that the value for `count` is different for each column. That's because `NaN` values are excluded from the cound. We can see that things are inconsistent, so we may want to just drop all of the `NaN` values for now.\n",
    "\n",
    "There are also some cases where the spending in 2012 is zero, so computing a percent change over time is complicated, so we'll just skip those too."
   ]
  },
  {
   "cell_type": "code",
   "execution_count": 18,
   "metadata": {
    "collapsed": false
   },
   "outputs": [
    {
     "data": {
      "text/plain": [
       "237"
      ]
     },
     "execution_count": 18,
     "metadata": {},
     "output_type": "execute_result"
    }
   ],
   "source": [
    "df = df.dropna()\n",
    "df = df[df['2012'] > 0]\n"
   ]
  },
  {
   "cell_type": "code",
   "execution_count": 21,
   "metadata": {
    "collapsed": false
   },
   "outputs": [],
   "source": [
    "df['change'] = ( (df['2017'] - df['2012'])/df['2012'])\n"
   ]
  },
  {
   "cell_type": "code",
   "execution_count": 22,
   "metadata": {
    "collapsed": false
   },
   "outputs": [
    {
     "data": {
      "text/html": [
       "<div>\n",
       "<table border=\"1\" class=\"dataframe\">\n",
       "  <thead>\n",
       "    <tr style=\"text-align: right;\">\n",
       "      <th></th>\n",
       "      <th>area</th>\n",
       "      <th>2012</th>\n",
       "      <th>2013</th>\n",
       "      <th>2014</th>\n",
       "      <th>2015</th>\n",
       "      <th>2016</th>\n",
       "      <th>2017</th>\n",
       "      <th>change</th>\n",
       "    </tr>\n",
       "  </thead>\n",
       "  <tbody>\n",
       "    <tr>\n",
       "      <th>68</th>\n",
       "      <td>Diethylstilbestrol (DES)</td>\n",
       "      <td>3</td>\n",
       "      <td>1</td>\n",
       "      <td>1</td>\n",
       "      <td>1</td>\n",
       "      <td>1</td>\n",
       "      <td>1</td>\n",
       "      <td>-0.666667</td>\n",
       "    </tr>\n",
       "    <tr>\n",
       "      <th>152</th>\n",
       "      <td>Mind and Body</td>\n",
       "      <td>533</td>\n",
       "      <td>210</td>\n",
       "      <td>211</td>\n",
       "      <td>217</td>\n",
       "      <td>226</td>\n",
       "      <td>226</td>\n",
       "      <td>-0.575985</td>\n",
       "    </tr>\n",
       "    <tr>\n",
       "      <th>90</th>\n",
       "      <td>Foodborne Illness 7/</td>\n",
       "      <td>257</td>\n",
       "      <td>229</td>\n",
       "      <td>232</td>\n",
       "      <td>105</td>\n",
       "      <td>109</td>\n",
       "      <td>109</td>\n",
       "      <td>-0.575875</td>\n",
       "    </tr>\n",
       "    <tr>\n",
       "      <th>215</th>\n",
       "      <td>Small Pox</td>\n",
       "      <td>40</td>\n",
       "      <td>30</td>\n",
       "      <td>24</td>\n",
       "      <td>17</td>\n",
       "      <td>18</td>\n",
       "      <td>18</td>\n",
       "      <td>-0.550000</td>\n",
       "    </tr>\n",
       "    <tr>\n",
       "      <th>41</th>\n",
       "      <td>Cerebral Palsy</td>\n",
       "      <td>42</td>\n",
       "      <td>18</td>\n",
       "      <td>21</td>\n",
       "      <td>20</td>\n",
       "      <td>21</td>\n",
       "      <td>21</td>\n",
       "      <td>-0.500000</td>\n",
       "    </tr>\n",
       "  </tbody>\n",
       "</table>\n",
       "</div>"
      ],
      "text/plain": [
       "                         area  2012  2013  2014  2015  2016  2017    change\n",
       "68   Diethylstilbestrol (DES)     3     1     1     1     1     1 -0.666667\n",
       "152             Mind and Body   533   210   211   217   226   226 -0.575985\n",
       "90       Foodborne Illness 7/   257   229   232   105   109   109 -0.575875\n",
       "215                 Small Pox    40    30    24    17    18    18 -0.550000\n",
       "41             Cerebral Palsy    42    18    21    20    21    21 -0.500000"
      ]
     },
     "execution_count": 22,
     "metadata": {},
     "output_type": "execute_result"
    }
   ],
   "source": [
    "df.sort_values(by='change').head()"
   ]
  },
  {
   "cell_type": "code",
   "execution_count": 24,
   "metadata": {
    "collapsed": false
   },
   "outputs": [
    {
     "data": {
      "text/html": [
       "<div>\n",
       "<table border=\"1\" class=\"dataframe\">\n",
       "  <thead>\n",
       "    <tr style=\"text-align: right;\">\n",
       "      <th></th>\n",
       "      <th>area</th>\n",
       "      <th>2012</th>\n",
       "      <th>2013</th>\n",
       "      <th>2014</th>\n",
       "      <th>2015</th>\n",
       "      <th>2016</th>\n",
       "      <th>2017</th>\n",
       "      <th>change</th>\n",
       "    </tr>\n",
       "  </thead>\n",
       "  <tbody>\n",
       "    <tr>\n",
       "      <th>88</th>\n",
       "      <td>Fibromyalgia</td>\n",
       "      <td>13</td>\n",
       "      <td>11</td>\n",
       "      <td>10</td>\n",
       "      <td>8</td>\n",
       "      <td>9</td>\n",
       "      <td>9</td>\n",
       "      <td>-0.307692</td>\n",
       "    </tr>\n",
       "  </tbody>\n",
       "</table>\n",
       "</div>"
      ],
      "text/plain": [
       "            area  2012  2013  2014  2015  2016  2017    change\n",
       "88  Fibromyalgia    13    11    10     8     9     9 -0.307692"
      ]
     },
     "execution_count": 24,
     "metadata": {},
     "output_type": "execute_result"
    }
   ],
   "source": [
    "df[df['area'] == 'Fibromyalgia']"
   ]
  },
  {
   "cell_type": "code",
   "execution_count": 25,
   "metadata": {
    "collapsed": false
   },
   "outputs": [
    {
     "data": {
      "text/plain": [
       "area      Acute Respiratory Distress SyndromeAdolescent ...\n",
       "2012                                                 147655\n",
       "2013                                                 142028\n",
       "2014                                                 147437\n",
       "2015                                                 151019\n",
       "2016                                                 157799\n",
       "2017                                                 158556\n",
       "change                                              12.5506\n",
       "dtype: object"
      ]
     },
     "execution_count": 25,
     "metadata": {},
     "output_type": "execute_result"
    }
   ],
   "source": [
    "df.sum()"
   ]
  },
  {
   "cell_type": "code",
   "execution_count": 32,
   "metadata": {
    "collapsed": false
   },
   "outputs": [
    {
     "name": "stderr",
     "output_type": "stream",
     "text": [
      "/Users/germuska/.virtualenvs/pandas-nicar-2016/lib/python2.7/site-packages/pandas/core/frame.py:1997: UserWarning: Boolean Series key will be reindexed to match DataFrame index.\n",
      "  \"DataFrame index.\", UserWarning)\n"
     ]
    },
    {
     "data": {
      "text/html": [
       "<div>\n",
       "<table border=\"1\" class=\"dataframe\">\n",
       "  <thead>\n",
       "    <tr style=\"text-align: right;\">\n",
       "      <th></th>\n",
       "      <th>area</th>\n",
       "      <th>2012</th>\n",
       "      <th>2013</th>\n",
       "      <th>2014</th>\n",
       "      <th>2015</th>\n",
       "      <th>2016</th>\n",
       "      <th>2017</th>\n",
       "      <th>change</th>\n",
       "    </tr>\n",
       "  </thead>\n",
       "  <tbody>\n",
       "    <tr>\n",
       "      <th>70</th>\n",
       "      <td>Digestive Diseases  (Gallbladder)</td>\n",
       "      <td>11</td>\n",
       "      <td>10</td>\n",
       "      <td>9</td>\n",
       "      <td>8</td>\n",
       "      <td>8</td>\n",
       "      <td>8</td>\n",
       "      <td>-0.272727</td>\n",
       "    </tr>\n",
       "    <tr>\n",
       "      <th>85</th>\n",
       "      <td>Facioscapulohumeral Muscular Dystrophy</td>\n",
       "      <td>5</td>\n",
       "      <td>5</td>\n",
       "      <td>7</td>\n",
       "      <td>8</td>\n",
       "      <td>9</td>\n",
       "      <td>9</td>\n",
       "      <td>0.800000</td>\n",
       "    </tr>\n",
       "    <tr>\n",
       "      <th>88</th>\n",
       "      <td>Fibromyalgia</td>\n",
       "      <td>13</td>\n",
       "      <td>11</td>\n",
       "      <td>10</td>\n",
       "      <td>8</td>\n",
       "      <td>9</td>\n",
       "      <td>9</td>\n",
       "      <td>-0.307692</td>\n",
       "    </tr>\n",
       "    <tr>\n",
       "      <th>3</th>\n",
       "      <td>Agent Orange &amp; Dioxin</td>\n",
       "      <td>8</td>\n",
       "      <td>10</td>\n",
       "      <td>8</td>\n",
       "      <td>9</td>\n",
       "      <td>9</td>\n",
       "      <td>9</td>\n",
       "      <td>0.125000</td>\n",
       "    </tr>\n",
       "    <tr>\n",
       "      <th>158</th>\n",
       "      <td>Myotonic Dystrophy</td>\n",
       "      <td>10</td>\n",
       "      <td>10</td>\n",
       "      <td>9</td>\n",
       "      <td>9</td>\n",
       "      <td>10</td>\n",
       "      <td>10</td>\n",
       "      <td>0.000000</td>\n",
       "    </tr>\n",
       "    <tr>\n",
       "      <th>12</th>\n",
       "      <td>Anorexia</td>\n",
       "      <td>14</td>\n",
       "      <td>11</td>\n",
       "      <td>11</td>\n",
       "      <td>10</td>\n",
       "      <td>10</td>\n",
       "      <td>10</td>\n",
       "      <td>-0.285714</td>\n",
       "    </tr>\n",
       "    <tr>\n",
       "      <th>81</th>\n",
       "      <td>Endometriosis</td>\n",
       "      <td>9</td>\n",
       "      <td>7</td>\n",
       "      <td>7</td>\n",
       "      <td>10</td>\n",
       "      <td>11</td>\n",
       "      <td>11</td>\n",
       "      <td>0.222222</td>\n",
       "    </tr>\n",
       "    <tr>\n",
       "      <th>87</th>\n",
       "      <td>Fibroid Tumors (Uterine)</td>\n",
       "      <td>14</td>\n",
       "      <td>10</td>\n",
       "      <td>9</td>\n",
       "      <td>10</td>\n",
       "      <td>10</td>\n",
       "      <td>10</td>\n",
       "      <td>-0.285714</td>\n",
       "    </tr>\n",
       "    <tr>\n",
       "      <th>134</th>\n",
       "      <td>Interstitial Cystitis</td>\n",
       "      <td>10</td>\n",
       "      <td>10</td>\n",
       "      <td>9</td>\n",
       "      <td>10</td>\n",
       "      <td>11</td>\n",
       "      <td>11</td>\n",
       "      <td>0.100000</td>\n",
       "    </tr>\n",
       "    <tr>\n",
       "      <th>217</th>\n",
       "      <td>Spina Bifida</td>\n",
       "      <td>12</td>\n",
       "      <td>10</td>\n",
       "      <td>10</td>\n",
       "      <td>10</td>\n",
       "      <td>10</td>\n",
       "      <td>10</td>\n",
       "      <td>-0.166667</td>\n",
       "    </tr>\n",
       "  </tbody>\n",
       "</table>\n",
       "</div>"
      ],
      "text/plain": [
       "                                       area  2012  2013  2014  2015  2016  \\\n",
       "70        Digestive Diseases  (Gallbladder)    11    10     9     8     8   \n",
       "85   Facioscapulohumeral Muscular Dystrophy     5     5     7     8     9   \n",
       "88                             Fibromyalgia    13    11    10     8     9   \n",
       "3                     Agent Orange & Dioxin     8    10     8     9     9   \n",
       "158                      Myotonic Dystrophy    10    10     9     9    10   \n",
       "12                                 Anorexia    14    11    11    10    10   \n",
       "81                            Endometriosis     9     7     7    10    11   \n",
       "87                 Fibroid Tumors (Uterine)    14    10     9    10    10   \n",
       "134                   Interstitial Cystitis    10    10     9    10    11   \n",
       "217                            Spina Bifida    12    10    10    10    10   \n",
       "\n",
       "     2017    change  \n",
       "70      8 -0.272727  \n",
       "85      9  0.800000  \n",
       "88      9 -0.307692  \n",
       "3       9  0.125000  \n",
       "158    10  0.000000  \n",
       "12     10 -0.285714  \n",
       "81     11  0.222222  \n",
       "87     10 -0.285714  \n",
       "134    11  0.100000  \n",
       "217    10 -0.166667  "
      ]
     },
     "execution_count": 32,
     "metadata": {},
     "output_type": "execute_result"
    }
   ],
   "source": [
    "df[df['2015'] >= 7][df['2015'] <= 10].sort_values(by='2015').tail(10)"
   ]
  },
  {
   "cell_type": "code",
   "execution_count": null,
   "metadata": {
    "collapsed": true
   },
   "outputs": [],
   "source": []
  },
  {
   "cell_type": "code",
   "execution_count": null,
   "metadata": {
    "collapsed": true
   },
   "outputs": [],
   "source": []
  },
  {
   "cell_type": "code",
   "execution_count": null,
   "metadata": {
    "collapsed": true
   },
   "outputs": [],
   "source": []
  },
  {
   "cell_type": "code",
   "execution_count": null,
   "metadata": {
    "collapsed": true
   },
   "outputs": [],
   "source": []
  },
  {
   "cell_type": "code",
   "execution_count": null,
   "metadata": {
    "collapsed": true
   },
   "outputs": [],
   "source": []
  },
  {
   "cell_type": "code",
   "execution_count": null,
   "metadata": {
    "collapsed": true
   },
   "outputs": [],
   "source": []
  },
  {
   "cell_type": "code",
   "execution_count": null,
   "metadata": {
    "collapsed": true
   },
   "outputs": [],
   "source": []
  }
 ],
 "metadata": {
  "kernelspec": {
   "display_name": "Python 2",
   "language": "python",
   "name": "python2"
  },
  "language_info": {
   "codemirror_mode": {
    "name": "ipython",
    "version": 2
   },
   "file_extension": ".py",
   "mimetype": "text/x-python",
   "name": "python",
   "nbconvert_exporter": "python",
   "pygments_lexer": "ipython2",
   "version": "2.7.9"
  }
 },
 "nbformat": 4,
 "nbformat_minor": 0
}
